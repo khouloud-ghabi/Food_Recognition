{
  "nbformat": 4,
  "nbformat_minor": 0,
  "metadata": {
    "colab": {
      "provenance": []
    },
    "kernelspec": {
      "name": "python3",
      "display_name": "Python 3"
    },
    "language_info": {
      "name": "python"
    }
  },
  "cells": [
    {
      "cell_type": "code",
      "execution_count": null,
      "metadata": {
        "id": "IsRS7wpLV7MC"
      },
      "outputs": [],
      "source": [
        "import os\n",
        "import copy\n",
        "import torch\n",
        "import numpy as np\n",
        "import pandas as pd\n",
        "import torch.nn as nn\n",
        "import torchvision\n",
        "from torchvision import models\n",
        "from sklearn.utils import shuffle\n",
        "from torchvision import datasets, transforms\n",
        "from torch.utils.data import Dataset, DataLoader\n",
        "from PIL import Image\n",
        "from tqdm import tqdm\n",
        "import matplotlib.pyplot as plt\n",
        "import matplotlib.font_manager\n",
        "from collections import OrderedDict"
      ]
    },
    {
      "cell_type": "code",
      "source": [
        "import os\n",
        "print(os.getcwd())"
      ],
      "metadata": {
        "id": "q7RVijbcWAdo"
      },
      "execution_count": null,
      "outputs": []
    },
    {
      "cell_type": "code",
      "source": [
        "if \"food-101\" in os.listdir():\n",
        "    print(\"Dataset already exists\")\n",
        "else:\n",
        "    print(\"Downloading the data...\")\n",
        "    !wget http://data.vision.ee.ethz.ch/cvl/food-101.tar.gz\n",
        "    print(\"Dataset downloaded!\")\n",
        "    print(\"Extracting data..\")\n",
        "    !tar xzvf food-101.tar.gz > /dev/null 2>&1\n",
        "    print(\"Extraction done!\")"
      ],
      "metadata": {
        "id": "N6AEb4kUWAgG"
      },
      "execution_count": null,
      "outputs": []
    },
    {
      "cell_type": "code",
      "source": [
        "classes = open(\"./food-101/meta/classes.txt\", 'r').read().splitlines()\n",
        "classes_21 = classes[:20] + ['other']\n",
        "classes_21, len(classes_21)"
      ],
      "metadata": {
        "id": "dKNRvMBuWAig"
      },
      "execution_count": null,
      "outputs": []
    },
    {
      "cell_type": "code",
      "source": [
        "!echo \"Testing images\"\n",
        "!head -n 5 ./food-101/meta/test.txt\n",
        "!echo -e \"\\nTraining images\"\n",
        "!head -n 5 ./food-101/meta/train.txt | head -n 5"
      ],
      "metadata": {
        "id": "SOUuZ46WWAka"
      },
      "execution_count": null,
      "outputs": []
    },
    {
      "cell_type": "code",
      "source": [
        "def prep_df(path: str) -> pd.DataFrame:\n",
        "    array = open(path, 'r').read().splitlines()\n",
        "\n",
        "\n",
        "    img_path = \"./food-101/images/\"\n",
        "    full_path = [img_path + img + \".jpg\" for img in array]\n",
        "\n",
        "\n",
        "    imgs = []\n",
        "    for img in array:\n",
        "        img = img.split('/')\n",
        "\n",
        "        imgs.append(img)\n",
        "\n",
        "    imgs = np.array(imgs)\n",
        "    imgs = pd.DataFrame(imgs[:,0], imgs[:,1], columns=['label'])\n",
        "    imgs['path'] = full_path\n",
        "    imgs = shuffle(imgs)\n",
        "\n",
        "    return imgs"
      ],
      "metadata": {
        "id": "dAQGbbguWAmM"
      },
      "execution_count": null,
      "outputs": []
    },
    {
      "cell_type": "code",
      "source": [
        "train_imgs = prep_df('./food-101/meta/train.txt')\n",
        "test_imgs = prep_df('./food-101/meta/test.txt')\n",
        "\n",
        "train_imgs.head(5)"
      ],
      "metadata": {
        "id": "O5WO7_7DWAoB"
      },
      "execution_count": null,
      "outputs": []
    },
    {
      "cell_type": "code",
      "source": [
        "plt.figure(figsize=(20, 5))\n",
        "\n",
        "num_rows = 3\n",
        "num_cols = 8\n",
        "\n",
        "\n",
        "for idx in range(num_rows * num_cols):\n",
        "    random_idx = np.random.randint(0, train_imgs.shape[0])\n",
        "    img = plt.imread(train_imgs.path.iloc[random_idx])\n",
        "\n",
        "    label = train_imgs.label.iloc[random_idx]\n",
        "\n",
        "    ax = plt.subplot(num_rows, num_cols, idx + 1)\n",
        "    plt.imshow(img)\n",
        "    plt.title(label)\n",
        "    plt.axis(\"off\")"
      ],
      "metadata": {
        "id": "__mdQ1wcWApo"
      },
      "execution_count": null,
      "outputs": []
    },
    {
      "cell_type": "code",
      "source": [
        "train_transforms = transforms.Compose([transforms.RandomRotation(30),\n",
        "                                       transforms.RandomResizedCrop(224),\n",
        "                                       transforms.RandomHorizontalFlip(),\n",
        "                                       torchvision.transforms.AutoAugment(torchvision.transforms.AutoAugmentPolicy.IMAGENET),\n",
        "                                       transforms.ToTensor(),\n",
        "                                       transforms.Normalize([0.485, 0.456, 0.406],\n",
        "                                                            [0.229, 0.224, 0.225])])\n",
        "# Data augmentation for testing\n",
        "test_transforms = transforms.Compose([transforms.Resize(255),\n",
        "                                      transforms.CenterCrop(224),\n",
        "                                      transforms.ToTensor(),\n",
        "                                      transforms.Normalize([0.485, 0.456, 0.406],\n",
        "                                                           [0.229, 0.224, 0.225])])"
      ],
      "metadata": {
        "id": "hEUkr8jQWArd"
      },
      "execution_count": null,
      "outputs": []
    },
    {
      "cell_type": "code",
      "source": [
        "class Label_encoder:\n",
        "    def __init__(self, labels):\n",
        "        labels = list(set(labels))\n",
        "        self.labels = {label: idx for idx, label in enumerate(classes)}\n",
        "\n",
        "    def get_label(self, idx):\n",
        "        return list(self.labels.keys())[idx]\n",
        "\n",
        "    def get_idx(self, label):\n",
        "        return self.labels[label]\n",
        "\n",
        "encoder = Label_encoder(classes)\n",
        "for i in range(20):\n",
        "    print(encoder.get_label(i), encoder.get_idx( encoder.get_label(i) ))"
      ],
      "metadata": {
        "id": "h_usDIfeWAtr"
      },
      "execution_count": null,
      "outputs": []
    },
    {
      "cell_type": "code",
      "source": [
        "class Food20(Dataset):\n",
        "    def __init__(self, dataframe, transform=None):\n",
        "        self.dataframe = dataframe\n",
        "        self.transform = transform\n",
        "\n",
        "    def __len__(self):\n",
        "        return self.dataframe.shape[0]\n",
        "\n",
        "    def __getitem__(self, idx):\n",
        "        img_name = self.dataframe.path.iloc[idx]\n",
        "        image = Image.open(img_name)\n",
        "        if image.mode != 'RGB':\n",
        "            image = image.convert('RGB')\n",
        "        label = encoder.get_idx(self.dataframe.label.iloc[idx])\n",
        "\n",
        "        if self.transform:\n",
        "            image = self.transform(image)\n",
        "\n",
        "        return image, label"
      ],
      "metadata": {
        "id": "DaKrnGhCWAv7"
      },
      "execution_count": null,
      "outputs": []
    },
    {
      "cell_type": "code",
      "source": [
        "train_dataset = Food20(train_imgs, transform=train_transforms)\n",
        "test_dataset = Food20(test_imgs, transform=test_transforms)"
      ],
      "metadata": {
        "id": "d6l8VeztWxpK"
      },
      "execution_count": null,
      "outputs": []
    },
    {
      "cell_type": "code",
      "source": [
        "train_loader = DataLoader(train_dataset, batch_size=128, shuffle=True)\n",
        "test_loader = DataLoader(test_dataset, batch_size=128, shuffle=False)"
      ],
      "metadata": {
        "id": "NHu8RgcbWxr6"
      },
      "execution_count": null,
      "outputs": []
    },
    {
      "cell_type": "code",
      "source": [
        "for i in range(10):\n",
        "    image = train_dataset.__getitem__(i)\n",
        "    print(encoder.get_label(image[1]), image[0].shape)"
      ],
      "metadata": {
        "id": "LG3JauDjWxu0"
      },
      "execution_count": null,
      "outputs": []
    },
    {
      "cell_type": "code",
      "source": [
        "weights = models.DenseNet201_Weights.IMAGENET1K_V1\n",
        "model = models.densenet201(weights = weights)"
      ],
      "metadata": {
        "id": "vstRafL8Wxw0"
      },
      "execution_count": null,
      "outputs": []
    },
    {
      "cell_type": "code",
      "source": [
        "for param in model.parameters():\n",
        "    param.requires_grad = False"
      ],
      "metadata": {
        "id": "W1j2dnqUWxzF"
      },
      "execution_count": null,
      "outputs": []
    },
    {
      "cell_type": "code",
      "source": [
        "import requests as reqs\n",
        "\n",
        "url = \"https://github.com/Prakhar998/Food-Classification/raw/master/food_classifier.pt\"\n",
        "r = reqs.get(url, allow_redirects=True)\n",
        "\n",
        "open(\"./food_classifier.pt\", \"wb\").write(r.content)"
      ],
      "metadata": {
        "id": "Ja79dXRcXkdW"
      },
      "execution_count": null,
      "outputs": []
    },
    {
      "cell_type": "code",
      "source": [
        "checkpoint_path = \"./food_classifier.pt\"\n",
        "classifier = nn.Sequential(\n",
        "    nn.Linear(1920,1024),\n",
        "    nn.LeakyReLU(),\n",
        "    nn.Linear(1024,101),\n",
        ")\n",
        "\n",
        "model.classifier = classifier\n",
        "model.load_state_dict(torch.load(checkpoint_path,map_location='cpu'),strict=False)\n",
        "\n",
        "model.to(device)"
      ],
      "metadata": {
        "id": "RGsmqInkXkgT"
      },
      "execution_count": null,
      "outputs": []
    },
    {
      "cell_type": "code",
      "source": [
        "num_epochs = 3\n",
        "\n",
        "loss_fn = nn.CrossEntropyLoss()\n",
        "\n",
        "optimizer = torch.optim.Adam(model.parameters(), lr=0.001, betas=[0.9, 0.999])\n",
        "\n",
        "model = model.to(device)"
      ],
      "metadata": {
        "id": "TAKxBSTdXkjQ"
      },
      "execution_count": null,
      "outputs": []
    },
    {
      "cell_type": "code",
      "source": [
        "def train_step(model: torch.nn.Module,\n",
        "               dataloader: torch.utils.data.DataLoader,\n",
        "               loss_fn: torch.nn.Module,\n",
        "               optimizer: torch.optim.Optimizer,\n",
        "               device: torch.device):\n",
        "\n",
        "  model.train()\n",
        "  train_loss, train_acc = 0, 0\n",
        "\n",
        "  print(\"--> Training Progress\")\n",
        "  for batch, (X, y) in enumerate(tqdm(dataloader)):\n",
        "\n",
        "      images, labels = X.to(device), y.to(device)\n",
        "\n",
        "      y_pred = model(images)\n",
        "\n",
        "      loss = loss_fn(y_pred, labels)\n",
        "      train_loss += loss.item()\n",
        "\n",
        "\n",
        "      optimizer.zero_grad()\n",
        "      loss.backward()\n",
        "\n",
        "      optimizer.step()\n",
        "      y_pred_class = torch.argmax(torch.softmax(y_pred, dim=1), dim=1)\n",
        "      train_acc += (y_pred_class == labels).sum().item()/len(y_pred)\n",
        "\n",
        "\n",
        "  train_loss = train_loss / len(dataloader)\n",
        "  train_acc = train_acc / len(dataloader)\n",
        "  return train_loss, train_acc"
      ],
      "metadata": {
        "id": "EpNpeMTjXklg"
      },
      "execution_count": null,
      "outputs": []
    },
    {
      "cell_type": "code",
      "source": [
        "def test_step(model: torch.nn.Module,\n",
        "              dataloader: torch.utils.data.DataLoader,\n",
        "              loss_fn: torch.nn.Module,\n",
        "              device: torch.device):\n",
        "\n",
        "  model.eval()\n",
        "\n",
        "  test_loss, test_acc = 0, 0\n",
        "  with torch.inference_mode():\n",
        "      print(\"--> Testing Progress\")\n",
        "\n",
        "      for batch, (X, y) in enumerate(tqdm(dataloader)):\n",
        "          images, labels = X.to(device), y.to(device)\n",
        "\n",
        "          test_pred_logits = model(images)\n",
        "\n",
        "          loss = loss_fn(test_pred_logits, labels)\n",
        "          test_loss += loss.item()\n",
        "\n",
        "          test_pred_labels = torch.argmax(torch.softmax(test_pred_logits, dim=1), dim=1)\n",
        "\n",
        "          test_acc += ((test_pred_labels == labels).sum().item()/len(test_pred_labels))\n",
        "\n",
        "  test_loss = test_loss / len(dataloader)\n",
        "  test_acc = test_acc / len(dataloader)\n",
        "  return test_loss, test_acc"
      ],
      "metadata": {
        "id": "SCwc960gXkn9"
      },
      "execution_count": null,
      "outputs": []
    },
    {
      "cell_type": "code",
      "source": [
        "def train(model: torch.nn.Module,\n",
        "          train_dataloader: torch.utils.data.DataLoader,\n",
        "          test_dataloader: torch.utils.data.DataLoader,\n",
        "          optimizer: torch.optim.Optimizer,\n",
        "          loss_fn: torch.nn.Module,\n",
        "          epochs: int,\n",
        "          device: torch.device):\n",
        "\n",
        "  history = {\n",
        "      \"train_loss\": [],\n",
        "      \"train_acc\": [],\n",
        "      \"test_loss\": [],\n",
        "      \"test_acc\": [],\n",
        "      'best train acc': (0, 0),\n",
        "      \"best_model\": dict()\n",
        "  }\n",
        "\n",
        "  for epoch in range(epochs):\n",
        "      print('Epoch {}/{}'.format(epoch + 1, num_epochs))\n",
        "\n",
        "      train_loss, train_acc = train_step(model=model,\n",
        "                                          dataloader=train_dataloader,\n",
        "                                          loss_fn=loss_fn,\n",
        "                                          optimizer=optimizer,\n",
        "                                          device=device)\n",
        "      test_loss, test_acc = test_step(model=model,\n",
        "          dataloader=test_dataloader,\n",
        "          loss_fn=loss_fn,\n",
        "          device=device)\n",
        "\n",
        "\n",
        "      print(\n",
        "          f\"Epoch: {epoch+1} | \"\n",
        "          f\"train_loss: {train_loss:.4f} | \"\n",
        "          f\"train_acc: {train_acc:.4f} | \"\n",
        "          f\"test_loss: {test_loss:.4f} | \"\n",
        "          f\"test_acc: {test_acc:.4f}\"\n",
        "          f\"\\n\\n=============================\\n\"\n",
        "      )\n",
        "\n",
        "      history[\"train_loss\"].append(train_loss)\n",
        "      history[\"train_acc\"].append(train_acc)\n",
        "      history[\"test_loss\"].append(test_loss)\n",
        "      history[\"test_acc\"].append(test_acc)\n",
        "      if test_loss < history[\"test_acc\"][len(history[\"test_acc\"]) - 1]:\n",
        "          history[\"best_model\"] = model.state_dict()\n",
        "\n",
        "      if test_acc > 0.95:\n",
        "         break\n",
        "\n",
        "  return model, history"
      ],
      "metadata": {
        "id": "r3q8bFwTXkp1"
      },
      "execution_count": null,
      "outputs": []
    },
    {
      "cell_type": "code",
      "source": [
        "model, history = train(model, train_loader, test_loader, optimizer, loss_fn, num_epochs, device)"
      ],
      "metadata": {
        "id": "CWrt8Ev7XksC"
      },
      "execution_count": null,
      "outputs": []
    },
    {
      "cell_type": "code",
      "source": [
        "def evaluate(model, dataloader):\n",
        "\n",
        "  random = np.random.randint(0, len(dataloader))\n",
        "\n",
        "  with torch.no_grad():\n",
        "    model.eval()\n",
        "    n_correct = 0\n",
        "    n_samples = 0\n",
        "\n",
        "    for images, labels in tqdm(dataloader):\n",
        "      images = images.to(device)\n",
        "      labels = labels.to(device)\n",
        "\n",
        "      outputs = model(images)\n",
        "\n",
        "      preds = torch.argmax(torch.softmax(outputs, 1), 1)\n",
        "\n",
        "\n",
        "      preds = np.array([pred.cpu() if pred < 20 else 20 for pred in preds])\n",
        "      labels = np.array([label.cpu() if label < 20 else 20 for label in labels])\n",
        "\n",
        "      n_samples += labels.shape[0]\n",
        "      n_correct += (preds==labels).sum().item()\n",
        "\n",
        "    acc = 100.0 * n_correct / n_samples\n",
        "    print(acc)"
      ],
      "metadata": {
        "id": "lF1PLXgzYSZz"
      },
      "execution_count": null,
      "outputs": []
    },
    {
      "cell_type": "code",
      "source": [
        "evaluate(model,test_loader)"
      ],
      "metadata": {
        "id": "sdxWpoz-YU5m"
      },
      "execution_count": null,
      "outputs": []
    },
    {
      "cell_type": "code",
      "source": [
        "class Label_encoder_21:\n",
        "    def __init__(self, labels):\n",
        "        labels = list(set(labels))\n",
        "        self.labels = {label: idx for idx, label in enumerate(labels)}\n",
        "\n",
        "    def get_label(self, idx):\n",
        "        return list(self.labels.keys())[idx]\n",
        "\n",
        "    def get_idx(self, label):\n",
        "        return self.labels[label]\n",
        "\n",
        "encoder_21 = Label_encoder(classes_21)\n",
        "encoder_21.get_label(0), encoder.get_idx( encoder_21.get_label(0) )"
      ],
      "metadata": {
        "id": "2zLznccDYU8y"
      },
      "execution_count": null,
      "outputs": []
    },
    {
      "cell_type": "code",
      "source": [
        "torch.save(history['best_model'], \"./solution.pth\")"
      ],
      "metadata": {
        "id": "9yhbUKXNYYVd"
      },
      "execution_count": null,
      "outputs": []
    },
    {
      "cell_type": "code",
      "source": [
        "import os\n",
        "\n",
        "if os.path.exists(\"./solution.pth\"):\n",
        "    print(\"solution.pth exists in the current directory.\")\n",
        "else:\n",
        "    print(\"solution.pth does not exist in the current directory.\")"
      ],
      "metadata": {
        "id": "0IVF9ycfYYcQ"
      },
      "execution_count": null,
      "outputs": []
    },
    {
      "cell_type": "code",
      "source": [
        "torch.save(model.state_dict(), 'saved_model.pth')"
      ],
      "metadata": {
        "id": "7MjvEqITYYjz"
      },
      "execution_count": null,
      "outputs": []
    }
  ]
}